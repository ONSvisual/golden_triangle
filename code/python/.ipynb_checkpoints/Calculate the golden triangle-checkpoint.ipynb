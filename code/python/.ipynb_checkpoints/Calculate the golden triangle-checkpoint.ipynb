{
 "cells": [
  {
   "cell_type": "code",
   "execution_count": null,
   "metadata": {},
   "outputs": [],
   "source": [
    "import multiprocess as mp\n",
    "import tqdm\n",
    "import geopandas as gpd\n",
    "import pandas as pd\n",
    "import shapely\n",
    "import fiona\n",
    "shapely.speedups.enable()"
   ]
  },
  {
   "cell_type": "code",
   "execution_count": null,
   "metadata": {},
   "outputs": [],
   "source": [
    "# Load in the isochrones for the East Midlands\n",
    "df = gpd.read_file('../../data/processed/isochrones/west_midlands.geojson')\n",
    "\n",
    "#Load in the centroids from the population grid\n",
    "centroids = gpd.read_file('../../data/raw/gb_centroid.geojson')\n",
    "\n",
    "# Calculate the total population of the UK\n",
    "totalpop=centroids['population'].sum()\n",
    "totalpop"
   ]
  },
  {
   "cell_type": "code",
   "execution_count": null,
   "metadata": {},
   "outputs": [],
   "source": [
    "# define a function that takes a isochrone, filters the centroids within the isochrone and then adds the population. Returns true is that isochrone contains 90% of the GB population\n",
    "def inthegoldentriangle(isochrone):\n",
    "    within=centroids.loc[centroids.within(isochrone)]\n",
    "    if(within['population'].sum()/totalpop>0.9):\n",
    "        return True\n",
    "    else:\n",
    "        return False    "
   ]
  },
  {
   "cell_type": "code",
   "execution_count": null,
   "metadata": {},
   "outputs": [],
   "source": [
    "# test the function if necessary\n",
    "inthegoldentriangle(df['geometry'][4])"
   ]
  },
  {
   "cell_type": "code",
   "execution_count": null,
   "metadata": {},
   "outputs": [],
   "source": [
    "# run the function across all the isochrones in parallel, save it to a list called output\n",
    "pool=mp.Pool(8) #use 8 processing threads\n",
    "output = list(tqdm.tqdm_notebook(pool.imap(inthegoldentriangle, df['geometry']), total=len(df['geometry'])))\n",
    "pool.close()\n",
    "pool.join()"
   ]
  },
  {
   "cell_type": "code",
   "execution_count": null,
   "metadata": {},
   "outputs": [],
   "source": [
    "# find out how many squares are within the golden triangle\n",
    "sum(x==True for x in output)"
   ]
  },
  {
   "cell_type": "code",
   "execution_count": null,
   "metadata": {},
   "outputs": [],
   "source": [
    "# attach if a centroid is within the golden triangle\n",
    "lookup=gpd.read_file('../../data/processed/lookups/west_midlands_lookup.geojson')\n",
    "lookup['inside']=output"
   ]
  },
  {
   "cell_type": "code",
   "execution_count": null,
   "metadata": {},
   "outputs": [],
   "source": [
    "# find the centre points of the golden isochrones\n",
    "goldentriangle=lookup[lookup['inside']==True]\n",
    "# output those points as a geojson\n",
    "goldentriangle.to_file('goldenisochrones.geojson',driver='GeoJSON')"
   ]
  },
  {
   "cell_type": "code",
   "execution_count": null,
   "metadata": {
    "scrolled": false
   },
   "outputs": [],
   "source": [
    "# To make a convex hull, convert to points, then draw the hull\n",
    "\n",
    "# First, make a geodataframe with the points\n",
    "gdf = gpd.GeoDataFrame(goldentriangle, geometry=gpd.points_from_xy(goldentriangle.lon,goldentriangle.lat))\n",
    "# calculate the convex hull\n",
    "triangle=gdf.unary_union.convex_hull\n",
    "# make the convex hull into a geopandas dataframe\n",
    "hull = gpd.GeoDataFrame(geometry=gpd.GeoSeries(triangle))\n",
    "# Set the coordinate reference system\n",
    "hull.set_crs('wgs84')\n",
    "# Save file\n",
    "hull.to_file('goldentriangle-westmidlands.geojson',driver='GeoJSON')\n"
   ]
  },
  {
   "cell_type": "code",
   "execution_count": null,
   "metadata": {},
   "outputs": [],
   "source": [
    "# To use the centroids and make a merged grid\n",
    "\n",
    "#read in the grid file for the WMs\n",
    "wmgrid=gpd.read_file('../../data/raw/wm_grid.geojson').to_crs('wgs84')\n",
    "# drop unnecessary columns\n",
    "wmgrid=wmgrid.drop(columns=['OBJECTID','RGN20CD','RGN20NM','BNG_E','BNG_N','LONG','LAT','Shape__Area','Shape__Length'])\n",
    "\n",
    "# select the grids that contain golden centroids\n",
    "goldengrid=gpd.sjoin(wmgrid,goldenpoints, op='contains')\n",
    "\n",
    "# merge the squares together if possible\n",
    "onegrid=goldengrid.dissolve(by='inside')\n",
    "#and save it \n",
    "onegrid.to_file('wmgoldengridmerged.geojson',driver='GeoJSON')"
   ]
  }
 ],
 "metadata": {
  "kernelspec": {
   "display_name": "Python 3",
   "language": "python",
   "name": "python3"
  },
  "language_info": {
   "codemirror_mode": {
    "name": "ipython",
    "version": 3
   },
   "file_extension": ".py",
   "mimetype": "text/x-python",
   "name": "python",
   "nbconvert_exporter": "python",
   "pygments_lexer": "ipython3",
   "version": "3.9.10"
  }
 },
 "nbformat": 4,
 "nbformat_minor": 4
}
